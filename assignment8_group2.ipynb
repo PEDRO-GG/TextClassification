{
 "cells": [
  {
   "cell_type": "markdown",
   "metadata": {},
   "source": [
    "# Phase1: Cleaning the document"
   ]
  },
  {
   "cell_type": "code",
   "execution_count": 1,
   "metadata": {},
   "outputs": [],
   "source": [
    "def phase1():\n",
    "    \n",
    "    # 1. Read in each line of the file\n",
    "    \n",
    "    file = input(\">> input the name of the file: \")\n",
    "    with open(file, encoding = 'utf8') as f:\n",
    "        data = f.read().splitlines() \n",
    "    \n",
    "    # 2. Clean each line and save it to a new file called 'processedFile.txt'\n",
    "\n",
    "    def cleanLine(line): # Cleans a provided line\n",
    "        punc = '''!()-[]{};:'\"\\, <>./?@#$%^&*_~'''\n",
    "        for character in line:\n",
    "        \n",
    "            # replace spaces, punctuations, and uppercase letters with another more appropriate character\n",
    "            if character.isspace() or character in punc:\n",
    "                line = line.replace(character, \"\\n\")\n",
    "        \n",
    "            if not character.islower():\n",
    "                line = line.replace(character, character.lower())\n",
    "            \n",
    "        return line\n",
    "\n",
    "\n",
    "    newFile = open(\"processedFile.txt\", \"a\")\n",
    "    for line in data:\n",
    "        cleanedLine = cleanLine(line)\n",
    "        print(cleanedLine)\n",
    "        newFile.write(cleanedLine)\n",
    "    \n",
    "    newFile.close()"
   ]
  },
  {
   "cell_type": "markdown",
   "metadata": {},
   "source": [
    "# Phase2: Creating the token class and the frequency table "
   ]
  },
  {
   "cell_type": "code",
   "execution_count": 2,
   "metadata": {},
   "outputs": [],
   "source": [
    "# 1. Token Class\n",
    "class Token:\n",
    "    def __init__(self, token, a_count, b_count):\n",
    "        self.token = token\n",
    "        self.a_count = a_count\n",
    "        self.b_count = b_count\n",
    "        \n",
    "\n",
    "# 2. Frequency Table\n",
    "tokens = {}\n",
    "\n",
    "#3. Read in the processed file and make each word an instance of the 'Token' class\n",
    "def phase2():\n",
    "    \n",
    "    # Read in file\n",
    "    file = input(\">>input the name of the cleaned file (the file does not contain any punctuations, numbers, or upper cases): \")\n",
    "    with open(file, encoding = 'utf8') as f:\n",
    "        data = f.read().splitlines()\n",
    "    \n",
    "    # Make each word a 'Token' instance and add it to the 'tokens' hashmap\n",
    "    for word in data:\n",
    "        \n",
    "        # Ignore empty strings\n",
    "        if word == \"\" :\n",
    "            continue\n",
    "        \n",
    "        # If the current word already exists in the 'tokens' hashmap, simply increment their counts\n",
    "        # Else append it to the 'tokens' hashmap\n",
    "        if word in tokens:\n",
    "            tokens[word].a_count += 1\n",
    "            tokens[word].b_count += 1\n",
    "        else:\n",
    "            token_instance = Token(word, 1, 1)\n",
    "            tokens[word] = token_instance\n",
    "            \n",
    "    print(tokens)"
   ]
  },
  {
   "cell_type": "markdown",
   "metadata": {},
   "source": [
    "# Phase3: Classifying an input document"
   ]
  },
  {
   "cell_type": "code",
   "execution_count": 3,
   "metadata": {},
   "outputs": [],
   "source": [
    "def phase3():\n",
    "    print(\"world\")"
   ]
  },
  {
   "cell_type": "markdown",
   "metadata": {},
   "source": [
    "# Ask the user what phase they would like to run"
   ]
  },
  {
   "cell_type": "code",
   "execution_count": 5,
   "metadata": {},
   "outputs": [
    {
     "name": "stdout",
     "output_type": "stream",
     "text": [
      ">>which phase would you like to run? 2\n",
      ">>input the name of the cleaned file (the file does not contain any punctuations, numbers, or upper cases): processedFile.txt\n",
      "{'hello': <__main__.Token object at 0x7fec21b59d60>, 'this': <__main__.Token object at 0x7fec21b87c70>, 'text': <__main__.Token object at 0x7fec21b879a0>, 'document': <__main__.Token object at 0x7fec21b87ca0>, 'is': <__main__.Token object at 0x7fec21b87760>, 'to': <__main__.Token object at 0x7fec21b87640>, 'test': <__main__.Token object at 0x7fec21b87cd0>, 'the': <__main__.Token object at 0x7fec21b87610>, 'first': <__main__.Token object at 0x7fec21b876a0>, 'phase': <__main__.Token object at 0x7fec21b87520>, 'which': <__main__.Token object at 0x7fec21b87580>, 'deals': <__main__.Token object at 0x7fec21b87c40>, 'with': <__main__.Token object at 0x7fec21b877f0>, 'getting': <__main__.Token object at 0x7fec21b87850>, 'rid': <__main__.Token object at 0x7fec21b87310>, 'of': <__main__.Token object at 0x7fec21b87880>, '“extraneous”': <__main__.Token object at 0x7fec21b87b20>, 'material': <__main__.Token object at 0x7fec21b87a00>, 'meaning': <__main__.Token object at 0x7fec21b87af0>, 'only': <__main__.Token object at 0x7fec21b87400>, 'alphanumeric': <__main__.Token object at 0x7fec21b877c0>, 'characters': <__main__.Token object at 0x7fec21b87e20>, 'and': <__main__.Token object at 0x7fec21b87bb0>, 'any': <__main__.Token object at 0x7fec21b87eb0>, 'form': <__main__.Token object at 0x7fec21b87670>, 'punctuation': <__main__.Token object at 0x7fec21b87dc0>, 'or': <__main__.Token object at 0x7fec21b87f70>, 'also': <__main__.Token object at 0x7fec21b870d0>, 'uppercase': <__main__.Token object at 0x7fec21b87fd0>, 'letters': <__main__.Token object at 0x7fec21b87f40>, 'should': <__main__.Token object at 0x7fec21b94c70>, 'be': <__main__.Token object at 0x7fec21b94f10>, 'converted': <__main__.Token object at 0x7fec21b940d0>, 'lowercase': <__main__.Token object at 0x7fec21b94190>, 'in': <__main__.Token object at 0x7fec21b94250>, 'end': <__main__.Token object at 0x7fec21b942e0>, 'we': <__main__.Token object at 0x7fec21b94340>, 'just': <__main__.Token object at 0x7fec21b943a0>, 'have': <__main__.Token object at 0x7fec21b940a0>}\n"
     ]
    }
   ],
   "source": [
    "phase = input(\">>which phase would you like to run? \")\n",
    "\n",
    "if(phase == \"1\"):\n",
    "    phase1()\n",
    "elif(phase == \"2\"):\n",
    "    phase2()\n",
    "else:\n",
    "    phase3()"
   ]
  },
  {
   "cell_type": "code",
   "execution_count": null,
   "metadata": {},
   "outputs": [],
   "source": []
  }
 ],
 "metadata": {
  "kernelspec": {
   "display_name": "Python 3",
   "language": "python",
   "name": "python3"
  },
  "language_info": {
   "codemirror_mode": {
    "name": "ipython",
    "version": 3
   },
   "file_extension": ".py",
   "mimetype": "text/x-python",
   "name": "python",
   "nbconvert_exporter": "python",
   "pygments_lexer": "ipython3",
   "version": "3.8.5"
  }
 },
 "nbformat": 4,
 "nbformat_minor": 4
}
