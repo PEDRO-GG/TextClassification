{
 "cells": [
  {
   "cell_type": "markdown",
   "metadata": {},
   "source": [
    "# Phase1: Cleaning the document"
   ]
  },
  {
   "cell_type": "code",
   "execution_count": 1,
   "metadata": {},
   "outputs": [],
   "source": [
    "def phase1():\n",
    "    \n",
    "    # 1. Read in each line of the file\n",
    "    \n",
    "    file = input(\">> input the name of the file: \")\n",
    "    with open(file, encoding = 'utf8') as f:\n",
    "        data = f.read().splitlines() \n",
    "    \n",
    "    # 2. Clean each line and save it to a new file called 'processedFile.txt'\n",
    "\n",
    "    def cleanLine(line): # Cleans a provided line\n",
    "        punc = '''!()-[]{};:'\"\\, <>./?@#$%^&*_~'''\n",
    "        for character in line:\n",
    "        \n",
    "            # replace spaces, punctuations, and uppercase letters with another more appropriate character\n",
    "            if character.isspace() or character in punc:\n",
    "                line = line.replace(character, \"\\n\")\n",
    "        \n",
    "            if not character.islower():\n",
    "                line = line.replace(character, character.lower())\n",
    "            \n",
    "        return line\n",
    "\n",
    "\n",
    "    newFile = open(\"processedFile.txt\", \"a\")\n",
    "    for line in data:\n",
    "        cleanedLine = cleanLine(line)\n",
    "        print(cleanedLine)\n",
    "        newFile.write(cleanedLine)\n",
    "    \n",
    "    newFile.close()"
   ]
  },
  {
   "cell_type": "markdown",
   "metadata": {},
   "source": [
    "# Phase2: Creating the token class and the frequency table "
   ]
  },
  {
   "cell_type": "code",
   "execution_count": 2,
   "metadata": {},
   "outputs": [],
   "source": [
    "# 1. Token Class\n",
    "class Token:\n",
    "    def __init__(self, token, a_count, b_count):\n",
    "        self.token = token\n",
    "        self.a_count = a_count\n",
    "        self.b_count = b_count\n",
    "        \n",
    "\n",
    "# 2. Frequency Table\n",
    "tokens = {}\n",
    "\n",
    "#3. Read in the processed file and make each word an instance of the 'Token' class\n",
    "def phase2():\n",
    "    \n",
    "    # Read in file\n",
    "    file = input(\">>input the name of the cleaned file (the file does not contain any punctuations, numbers, or upper cases): \")\n",
    "    with open(file, encoding = 'utf8') as f:\n",
    "        data = f.read().splitlines()\n",
    "    \n",
    "    # Make each word a 'Token' instance and add it to the 'tokens' hashmap\n",
    "    for word in data:\n",
    "        \n",
    "        # Ignore empty strings\n",
    "        if word == \"\" :\n",
    "            continue\n",
    "        \n",
    "        # If the current word already exists in the 'tokens' hashmap, simply increment their counts\n",
    "        # Else append it to the 'tokens' hashmap\n",
    "        if word in tokens:\n",
    "            tokens[word].a_count += 1\n",
    "            tokens[word].b_count += 1\n",
    "        else:\n",
    "            token_instance = Token(word, 1, 1)\n",
    "            tokens[word] = token_instance\n",
    "            \n",
    "    print(tokens)"
   ]
  },
  {
   "cell_type": "markdown",
   "metadata": {},
   "source": [
    "# Phase3: Classifying an input document"
   ]
  },
  {
   "cell_type": "code",
   "execution_count": 3,
   "metadata": {},
   "outputs": [],
   "source": [
    "# 1. Classify class\n",
    "class Classify:\n",
    "    A = 0\n",
    "    B = 0\n",
    "    def __init__(self, d, table): #Table looks like this : {hello: Token(hello, 100, 2)}\n",
    "        this.d = d\n",
    "        this.table = table\n",
    "    \n",
    "    def classify_d(self):\n",
    "        for token in self.table:\n",
    "            A += token.a_count\n",
    "            B += token.b_count\n",
    "\n",
    "\n",
    "#2. Ask the user for classA document, classB document, f_0, and d. Then, classify d.\n",
    "def phase3():\n",
    "    \n",
    "    class_A_file, class_B_file, f_0, d_file = input(\">>Input Class-A documents, Class-B documents, f_0, and d seperated by spaces: \").split()\n",
    "    \n",
    "    print(class_A_file)\n",
    "    print(class_B_file)\n",
    "    print(f_0)\n",
    "    print(d_file)\n",
    "    "
   ]
  },
  {
   "cell_type": "markdown",
   "metadata": {},
   "source": [
    "# Ask the user what phase they would like to run"
   ]
  },
  {
   "cell_type": "code",
   "execution_count": 4,
   "metadata": {},
   "outputs": [
    {
     "name": "stdout",
     "output_type": "stream",
     "text": [
      ">>which phase would you like to run? 3\n",
      ">>Input Class-A documents, Class-B documents, f_0, and d seperated by spaces: classA.txt classb.txt 9 classify.txt\n",
      "classA.txt\n",
      "classb.txt\n",
      "9\n",
      "classify.txt\n"
     ]
    }
   ],
   "source": [
    "phase = input(\">>which phase would you like to run? \")\n",
    "\n",
    "if(phase == \"1\"):\n",
    "    phase1()\n",
    "elif(phase == \"2\"):\n",
    "    phase2()\n",
    "else:\n",
    "    phase3()"
   ]
  },
  {
   "cell_type": "code",
   "execution_count": null,
   "metadata": {},
   "outputs": [],
   "source": []
  }
 ],
 "metadata": {
  "kernelspec": {
   "display_name": "Python 3",
   "language": "python",
   "name": "python3"
  },
  "language_info": {
   "codemirror_mode": {
    "name": "ipython",
    "version": 3
   },
   "file_extension": ".py",
   "mimetype": "text/x-python",
   "name": "python",
   "nbconvert_exporter": "python",
   "pygments_lexer": "ipython3",
   "version": "3.8.5"
  }
 },
 "nbformat": 4,
 "nbformat_minor": 4
}
