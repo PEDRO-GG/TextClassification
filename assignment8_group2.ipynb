{
 "cells": [
  {
   "cell_type": "markdown",
   "metadata": {},
   "source": [
    "# Phase1: Cleaning the document"
   ]
  },
  {
   "cell_type": "code",
   "execution_count": 1,
   "metadata": {},
   "outputs": [
    {
     "name": "stdout",
     "output_type": "stream",
     "text": [
      ">> input the name of the file: text.txt\n"
     ]
    }
   ],
   "source": [
    "# 1. Read in each line of the file\n",
    "\n",
    "file = input(\">> input the name of the file: \")\n",
    "with open(file, encoding = 'utf8') as f:\n",
    "    data = f.readlines()\n"
   ]
  },
  {
   "cell_type": "code",
   "execution_count": 2,
   "metadata": {},
   "outputs": [
    {
     "name": "stdout",
     "output_type": "stream",
     "text": [
      "hello\n",
      "\n",
      "this\n",
      "text\n",
      "document\n",
      "is\n",
      "to\n",
      "test\n",
      "the\n",
      "first\n",
      "phase\n",
      "\n",
      "\n",
      "which\n",
      "deals\n",
      "with\n",
      "getting\n",
      "rid\n",
      "of\n",
      "“extraneous”\n",
      "material\n",
      "meaning\n",
      "only\n",
      "alphanumeric\n",
      "characters\n",
      "\n",
      "and\n",
      "any\n",
      "form\n",
      "of\n",
      "punctuation\n",
      "\n",
      "\n",
      "\n",
      "\n",
      "\n",
      "\n",
      "\n",
      "or\n",
      "\n",
      "\n",
      "\n",
      "\n",
      "\n",
      "also\n",
      "\n",
      "uppercase\n",
      "letters\n",
      "should\n",
      "be\n",
      "converted\n",
      "to\n",
      "lowercase\n",
      "\n",
      "\n",
      "in\n",
      "the\n",
      "end\n",
      "\n",
      "we\n",
      "should\n",
      "just\n",
      "have\n",
      "alphanumeric\n",
      "characters\n",
      "\n",
      "\n",
      "\n",
      "\n",
      "\n"
     ]
    }
   ],
   "source": [
    "# 2. Clean each line and save it to a new file called 'processedFile.txt'\n",
    "\n",
    "def cleanLine(line):\n",
    "    punc = '''!()-[]{};:'\"\\, <>./?@#$%^&*_~'''\n",
    "    for character in line:\n",
    "        \n",
    "        # replace spaces, punctuations, and uppercase letters with another more appropriate character\n",
    "        if character.isspace() or character in punc:\n",
    "            line = line.replace(character, \"\\n\")\n",
    "        \n",
    "        if not character.islower():\n",
    "            line = line.replace(character, character.lower())\n",
    "            \n",
    "    return line\n",
    "\n",
    "\n",
    "newFile = open(\"processedFile.txt\", \"a\")\n",
    "for line in data:\n",
    "    cleanedLine = cleanLine(line)\n",
    "    print(cleanedLine)\n",
    "    newFile.write(cleanedLine)\n",
    "    \n",
    "newFile.close()\n"
   ]
  },
  {
   "cell_type": "code",
   "execution_count": null,
   "metadata": {},
   "outputs": [],
   "source": []
  }
 ],
 "metadata": {
  "kernelspec": {
   "display_name": "Python 3",
   "language": "python",
   "name": "python3"
  },
  "language_info": {
   "codemirror_mode": {
    "name": "ipython",
    "version": 3
   },
   "file_extension": ".py",
   "mimetype": "text/x-python",
   "name": "python",
   "nbconvert_exporter": "python",
   "pygments_lexer": "ipython3",
   "version": "3.8.5"
  }
 },
 "nbformat": 4,
 "nbformat_minor": 4
}
