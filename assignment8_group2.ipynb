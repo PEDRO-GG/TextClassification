{
 "cells": [
  {
   "cell_type": "markdown",
   "metadata": {},
   "source": [
    "# Phase1: Cleaning the document"
   ]
  },
  {
   "cell_type": "code",
   "execution_count": 1,
   "metadata": {},
   "outputs": [],
   "source": [
    "def phase1():\n",
    "    \n",
    "    # 1. Read in each line of the provided file\n",
    "    \n",
    "    file = input(\">> input the name of the file: \")\n",
    "    with open(file, encoding = 'utf8') as f:\n",
    "        data = f.read().splitlines() \n",
    "    \n",
    "    # 2. Helper function that cleans each line and saves it to a new file called 'processedFile.txt'\n",
    "\n",
    "    def cleanLine(line): # Cleans a provided line\n",
    "        punc = '''!()-[]{};:'\"\\, <>./?@#$%^&*_~'''\n",
    "        for character in line:\n",
    "        \n",
    "            # replace spaces, punctuations, and uppercase letters with another more appropriate character\n",
    "            if character.isspace() or character in punc:\n",
    "                line = line.replace(character, \"\\n\")\n",
    "        \n",
    "            if not character.islower():\n",
    "                line = line.replace(character, character.lower())\n",
    "            \n",
    "        return line\n",
    "\n",
    "\n",
    "    newFile = open(\"processedFile.txt\", \"a\")\n",
    "    for line in data:\n",
    "        cleanedLine = cleanLine(line)\n",
    "        print(cleanedLine)\n",
    "        newFile.write(cleanedLine)\n",
    "    \n",
    "    newFile.close()"
   ]
  },
  {
   "cell_type": "markdown",
   "metadata": {},
   "source": [
    "# Phase2: Creating the token class and the frequency table "
   ]
  },
  {
   "cell_type": "code",
   "execution_count": 61,
   "metadata": {},
   "outputs": [],
   "source": [
    "# 1. Token Class\n",
    "class Token:\n",
    "    def __init__(self, token, a_count, b_count):\n",
    "        self.token = token\n",
    "        self.a_count = a_count\n",
    "        self.b_count = b_count\n",
    "        \n",
    "\n",
    "#2. Helper function that reads in a cleaned file and generates the initial frequency table for that file\n",
    "def generate_frequency_table(file, f_0):\n",
    "    with open(file, encoding = 'utf8') as f:\n",
    "        lines = f.read().splitlines()\n",
    "    \n",
    "    # Frequency Table which will contain 'Token' instances\n",
    "    tokens = {}\n",
    "    \n",
    "    # Make each word a 'Token' instance and add it to the 'tokens' hashmap\n",
    "    for word in lines:\n",
    "        \n",
    "        # Ignore empty strings and words already in the frequency table\n",
    "        if word == \"\" or word in tokens:\n",
    "            continue\n",
    "        \n",
    "        # Else make a new instance of the 'Token' class and append it to the 'tokens' hashmap\n",
    "        else:\n",
    "            tokens[word] = Token(word, f_0, f_0)\n",
    "            \n",
    "    return tokens\n",
    "\n",
    "#4. Get the file from the user\n",
    "def phase2():\n",
    "    \n",
    "    # Ask the user for the processed file\n",
    "    file = input(\">>input the name of the cleaned file (the file does not contain any punctuations, numbers, or upper cases): \")\n",
    "    \n",
    "    # For demonstration purposes we assume a f_0 of 1 but user can input a different f_0 in phase3\n",
    "    frequency_table = generate_frequency_table(file, 1)\n",
    "    print(F\"The frequency table for file '{file}' is: \\n {frequency_table}\")\n",
    "    "
   ]
  },
  {
   "cell_type": "markdown",
   "metadata": {},
   "source": [
    "# Phase3: Classifying an input document"
   ]
  },
  {
   "cell_type": "code",
   "execution_count": 71,
   "metadata": {},
   "outputs": [],
   "source": [
    "#1. Ask the user for classA document, classB document, f_0, and d. Then, classify d.\n",
    "def phase3():\n",
    "    \n",
    "    class_A_file, class_B_file, f_0, d_file = input(\">>Input Class-A documents, Class-B documents, f_0, and d seperated by spaces: \").split()\n",
    "    \n",
    "    #2. Instead of a 'Classify' class we went with a 'classify' function\n",
    "    def classify(class_A_file, class_B_file, f_0, d_file):\n",
    "        A_count_for_d = 0\n",
    "        B_count_for_d = 0\n",
    "        \n",
    "        A_frequency_table = generate_frequency_table(class_A_file, f_0)\n",
    "        B_frequency_table = generate_frequency_table(class_B_file, f_0)\n",
    "        d_frequency_table = generate_frequency_table(d_file, f_0)\n",
    "\n",
    "\n",
    "        for word in d_frequency_table:\n",
    "                \n",
    "            if word in A_frequency_table:\n",
    "                A_count_for_d += 1\n",
    "                \n",
    "            if word in B_frequency_table:\n",
    "                B_count_for_d += 1\n",
    "                \n",
    "        if A_count_for_d > B_count_for_d:\n",
    "            print(\"Document d belongs to A class\")\n",
    "        elif A_count_for_d < B_count_for_d:\n",
    "            print(\"Document d belongs to B class\")\n",
    "        else:\n",
    "            print(\"It is a tie\")\n",
    "            \n",
    "    classify(class_A_file, class_B_file, f_0, d_file)\n",
    "    "
   ]
  },
  {
   "cell_type": "markdown",
   "metadata": {},
   "source": [
    "# Ask the user what phase they would like to run"
   ]
  },
  {
   "cell_type": "code",
   "execution_count": 72,
   "metadata": {},
   "outputs": [
    {
     "name": "stdout",
     "output_type": "stream",
     "text": [
      ">>which phase would you like to run? 3\n",
      ">>Input Class-A documents, Class-B documents, f_0, and d seperated by spaces: Republicans.txt Democrats.txt 1 Kennedy1962.txt\n",
      "Document d belongs to B class\n"
     ]
    }
   ],
   "source": [
    "phase = input(\">>which phase would you like to run? \")\n",
    "\n",
    "if(phase == \"1\"):\n",
    "    phase1()\n",
    "elif(phase == \"2\"):\n",
    "    print(phase2())\n",
    "else:\n",
    "    phase3() # Example input: Republicans.txt Democrats.txt 1 Obama2014.txt"
   ]
  },
  {
   "cell_type": "code",
   "execution_count": null,
   "metadata": {},
   "outputs": [],
   "source": []
  },
  {
   "cell_type": "code",
   "execution_count": null,
   "metadata": {},
   "outputs": [],
   "source": []
  }
 ],
 "metadata": {
  "kernelspec": {
   "display_name": "Python 3",
   "language": "python",
   "name": "python3"
  },
  "language_info": {
   "codemirror_mode": {
    "name": "ipython",
    "version": 3
   },
   "file_extension": ".py",
   "mimetype": "text/x-python",
   "name": "python",
   "nbconvert_exporter": "python",
   "pygments_lexer": "ipython3",
   "version": "3.8.5"
  }
 },
 "nbformat": 4,
 "nbformat_minor": 4
}
